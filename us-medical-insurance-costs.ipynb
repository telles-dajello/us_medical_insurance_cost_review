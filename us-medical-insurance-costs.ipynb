{
 "cells": [
  {
   "cell_type": "markdown",
   "metadata": {},
   "source": [
    "# U.S. Medical Insurance Costs"
   ]
  },
  {
   "cell_type": "markdown",
   "metadata": {},
   "source": [
    "questions to be answered:\n",
    "       for all: get lists with values for each column and get dictionary with unique id with a list of the values for each colum of taht row as value of the unique id as key.\n",
    "\n",
    "    What is the average age of the patients in this dataset?\n",
    "       get list of all ages\n",
    "       calculate sum of all ages\n",
    "       divide by number of entries (len(ages))\n",
    "    Where are the majority of the patients from? \n",
    "    And what are the other most common in decreasing order?\n",
    "       get list of unique locations in the dataset\n",
    "       for each unique id in the full dictionary, check location and \n",
    "       make new dictionary with locations as keys and count of \n",
    "       locations as values\n",
    "       compare values and give higher, and list in order.\n",
    "    What is the average diference of cost between smokers and non-somker?\n",
    "       for id in dic sum costs for smokers\n",
    "       divide by number of smokers\n",
    "       sum costs for non-smokers\n",
    "       divide by number of non-smokers\n",
    "       subtract to find the diference\n",
    "    What is the average age for people whith at least 1 child...\n",
    "       for id in dic append age in list of ages if children > 0\n",
    "       sum ages and divide by len(ages)"
   ]
  },
  {
   "cell_type": "code",
   "execution_count": 2,
   "metadata": {},
   "outputs": [],
   "source": [
    "import csv"
   ]
  },
  {
   "cell_type": "markdown",
   "metadata": {},
   "source": [
    "creates a dictionary with a unique id for each patient as key and a dict with all the information in the csv file as the value."
   ]
  },
  {
   "cell_type": "code",
   "execution_count": 64,
   "metadata": {},
   "outputs": [],
   "source": [
    "insurance_complete_list = []\n",
    "with open(\"insurance.csv\", newline=\"\") as file:\n",
    "    reader = csv.DictReader(file)\n",
    "    for row in reader:\n",
    "        insurance_complete_list.append(row)"
   ]
  },
  {
   "cell_type": "code",
   "execution_count": 66,
   "metadata": {},
   "outputs": [],
   "source": [
    "def find_avg_age(list):\n",
    "    total = 0.0\n",
    "    for dict in list:\n",
    "        total += float(dict[\"age\"])\n",
    "    return round(total / len(list), 2)\n",
    "\n",
    "average_age = find_avg_age(insurance_complete_list)"
   ]
  },
  {
   "cell_type": "code",
   "execution_count": 67,
   "metadata": {},
   "outputs": [
    {
     "name": "stdout",
     "output_type": "stream",
     "text": [
      "39.21\n"
     ]
    }
   ],
   "source": [
    "print(average_age)"
   ]
  },
  {
   "cell_type": "markdown",
   "metadata": {},
   "source": [
    "Where are the majority of the patients from? And what are the other most common in decreasing order?"
   ]
  },
  {
   "cell_type": "code",
   "execution_count": 68,
   "metadata": {},
   "outputs": [],
   "source": [
    "location_list = list(set(dict[\"region\"] for dict in insurance_complete_list))"
   ]
  },
  {
   "cell_type": "code",
   "execution_count": 69,
   "metadata": {},
   "outputs": [
    {
     "name": "stdout",
     "output_type": "stream",
     "text": [
      "['northeast', 'northwest', 'southwest', 'southeast']\n"
     ]
    }
   ],
   "source": [
    "print(location_list)"
   ]
  },
  {
   "cell_type": "code",
   "execution_count": 78,
   "metadata": {},
   "outputs": [],
   "source": [
    "def sort_patients_by_region(list):\n",
    "    locations_n_of_patients = {}\n",
    "    \n",
    "    for dict in insurance_complete_list:\n",
    "        if dict[\"region\"] not in locations_n_of_patients.keys():\n",
    "            locations_n_of_patients[dict['region']] = 1\n",
    "        else:\n",
    "            locations_n_of_patients[dict['region']] += 1\n",
    "    \n",
    "    return sorted(locations_n_of_patients.items(), key=lambda item:item[1], reverse=True)\n",
    "\n",
    "locations_ranked = list(sort_patients_by_region(insurance_complete_list))\n",
    "location_most_patients = f\"{locations_ranked[0][0].title()} is the region with the most patients, with {locations_ranked[0][1]} patients.\""
   ]
  },
  {
   "cell_type": "code",
   "execution_count": 79,
   "metadata": {},
   "outputs": [
    {
     "name": "stdout",
     "output_type": "stream",
     "text": [
      "[('southeast', 364), ('southwest', 325), ('northwest', 325), ('northeast', 324)]\n",
      "Southeast is the region with the most patients, with 364 patients.\n"
     ]
    }
   ],
   "source": [
    "print(locations_ranked)\n",
    "print(location_most_patients)"
   ]
  },
  {
   "cell_type": "markdown",
   "metadata": {},
   "source": [
    "What is the average diference of cost between smokers and non-somker?"
   ]
  },
  {
   "cell_type": "code",
   "execution_count": 81,
   "metadata": {},
   "outputs": [],
   "source": [
    "def find_avg_cost_smoke(list):\n",
    "    smokers_cost = 0.0\n",
    "    smokers = 0\n",
    "    non_smokers_cost = 0.0\n",
    "    non_smokers = 0\n",
    "    for dict in list:\n",
    "        for key, value in dict.items():\n",
    "            if dict[\"smoker\"] == \"yes\":\n",
    "                smokers_cost += float(dict[\"charges\"])\n",
    "                smokers += 1\n",
    "            elif dict[\"smoker\"] == \"no\":\n",
    "                non_smokers_cost += float(dict[\"charges\"])\n",
    "                non_smokers += 1\n",
    "    smokers_cost_avg = round((smokers_cost / smokers) - (non_smokers_cost / non_smokers), 2)\n",
    "    return smokers_cost_avg\n",
    "\n",
    "average_diff_smoker_cost = find_avg_cost_smoke(insurance_complete_list)"
   ]
  },
  {
   "cell_type": "code",
   "execution_count": 82,
   "metadata": {},
   "outputs": [
    {
     "name": "stdout",
     "output_type": "stream",
     "text": [
      "23615.96\n"
     ]
    }
   ],
   "source": [
    "print(average_diff_smoker_cost)"
   ]
  },
  {
   "cell_type": "markdown",
   "metadata": {},
   "source": [
    "What is the average age for people whith at least 1 child...\n",
    "\n",
    "       for id in dic append age in list of ages if children > 0\n",
    "       sum ages and divide by len(ages)"
   ]
  },
  {
   "cell_type": "code",
   "execution_count": 86,
   "metadata": {},
   "outputs": [],
   "source": [
    "total_age_patients_with_children = 0\n",
    "patiens_with_children = 0\n",
    "for dict in insurance_complete_list:\n",
    "    for key, value in dict.items():\n",
    "        if int(dict[\"children\"]) > 0:\n",
    "            total_age_patients_with_children += int(dict[\"age\"])\n",
    "            patiens_with_children += 1\n",
    "\n",
    "avg_age_patients_with_children = round(total_age_patients_with_children / patiens_with_children, 2)"
   ]
  },
  {
   "cell_type": "code",
   "execution_count": 87,
   "metadata": {},
   "outputs": [
    {
     "name": "stdout",
     "output_type": "stream",
     "text": [
      "39.78\n"
     ]
    }
   ],
   "source": [
    "print(avg_age_patients_with_children)"
   ]
  }
 ],
 "metadata": {
  "kernelspec": {
   "display_name": "Python 3",
   "language": "python",
   "name": "python3"
  },
  "language_info": {
   "codemirror_mode": {
    "name": "ipython",
    "version": 3
   },
   "file_extension": ".py",
   "mimetype": "text/x-python",
   "name": "python",
   "nbconvert_exporter": "python",
   "pygments_lexer": "ipython3",
   "version": "3.11.0"
  }
 },
 "nbformat": 4,
 "nbformat_minor": 4
}
